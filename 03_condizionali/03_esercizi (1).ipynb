{
 "cells": [
  {
   "cell_type": "markdown",
   "metadata": {},
   "source": [
    "# Altezza\n",
    "\n",
    "Viene chiesto di scrivere un programma che chieda all'utente di fornire la sua altezza in centimetri. Se l'altezza è maggiore o uguale a 180 il programma deve stampare la seguente dicitura: ``Sei una persona molto alta``.\n",
    "\n",
    "Tradurre il diagramma di flusso in un codice Python che risolva il problema.\n"
   ]
  },
  {
   "cell_type": "code",
   "execution_count": 6,
   "metadata": {},
   "outputs": [
    {
     "name": "stdout",
     "output_type": "stream",
     "text": [
      "Sei una persona molto alta\n"
     ]
    }
   ],
   "source": [
    "altezza = float(input(\"inserire l'altezza: \"))\n",
    "if altezza >= 180 :\n",
    "    print( \"Sei una persona molto alta\")\n",
    "else: \n",
    "    print( \"Non sei alto\")"
   ]
  },
  {
   "cell_type": "markdown",
   "metadata": {},
   "source": [
    "# Altezza 2\n",
    " Riprendere l'esercizio precedente ed aggiungere il codice che permetta al programma di scrivere ``Sei una persona di media altezza`` se l'altezza è inferiore a 180 cm.\n",
    "\n",
    " Tradurre il diagramma di flusso in un codice Python che risolva il problema."
   ]
  },
  {
   "cell_type": "code",
   "execution_count": 7,
   "metadata": {},
   "outputs": [
    {
     "name": "stdout",
     "output_type": "stream",
     "text": [
      " Sei una persona di media altezza\n"
     ]
    }
   ],
   "source": [
    "altezza = float(input(\" inserisci l'altezza\"))\n",
    "if altezza <180:\n",
    "    print(\" Sei una persona di media altezza\")\n",
    "else:\n",
    "    print(\"Sei una persona molto alta\")"
   ]
  },
  {
   "cell_type": "markdown",
   "metadata": {},
   "source": [
    "# Area rettangolo\n",
    "L'area di un rettangolo è uguale alla sua base per la sua altezza. Scrivere un programma che chieda la base e l'altezza di due rettangoli e successivamente indichi quale dei due rettangoli ha l'area maggiore."
   ]
  },
  {
   "cell_type": "code",
   "execution_count": 11,
   "metadata": {},
   "outputs": [
    {
     "name": "stdout",
     "output_type": "stream",
     "text": [
      "Le aree sono uguali\n"
     ]
    }
   ],
   "source": [
    "base1 = int(input(\"inserire lunghezza base\"))\n",
    "altezza1 = int(input(\"inserire lunghezza altezza\"))\n",
    "base2 = int(input(\"inserire lunghezza base\"))\n",
    "altezza2 = int(input(\"inserire lunghezza altezza \"))\n",
    "area1 = base1*altezza1\n",
    "area2 = base2 *altezza2\n",
    "if area1>area2:\n",
    "    print(\"L'area del primo rettangolo è maggiore\")\n",
    "elif area1==area2:\n",
    "    print(\"Le aree sono uguali\")\n",
    "else:\n",
    "    print( \"L'area2 è maggiore\") "
   ]
  },
  {
   "cell_type": "markdown",
   "metadata": {},
   "source": [
    "# Pari e dispari\n",
    "Scrivere un programma che chieda all'utente di indicare un numero intero. Se il numero è pari, il programma deve visualizzare: ``Il tuo numero è pari`` , se invece il numero è dispari deve visualizzare: ``Il tuo numero è dispari``."
   ]
  },
  {
   "cell_type": "markdown",
   "metadata": {},
   "source": []
  },
  {
   "cell_type": "markdown",
   "metadata": {},
   "source": [
    "# Password\n",
    " Scrivere un programma che chieda all'utente di inserire una password a proprio piacimento. Se la password è composta da almeno 8 caratteri il programma deve visualizzare: ``La password è stata accettata`` , altrimenti ``La password inserita è troppo corta``"
   ]
  },
  {
   "cell_type": "markdown",
   "metadata": {},
   "source": []
  },
  {
   "cell_type": "markdown",
   "metadata": {},
   "source": [
    "# Assegnazioni\n",
    "\n",
    "Scrivere una istruzione ``if`` che assegni 0 alla variabile ``b`` e assegni 1 alla variabile ``c``  se la variabile ``a`` è minore di 10."
   ]
  },
  {
   "cell_type": "markdown",
   "metadata": {},
   "source": []
  },
  {
   "cell_type": "markdown",
   "metadata": {},
   "source": [
    "# Assegnazioni 2\n",
    "Scrivere una istruzione ``if-else `` che assegni 0 alla variabile ``b`` se la variabile ``a`` è minore di 10. In caso contrario, l'istruzione deve assegnare 99 alla variabile ``b``."
   ]
  },
  {
   "cell_type": "markdown",
   "metadata": {},
   "source": []
  }
 ],
 "metadata": {
  "kernelspec": {
   "display_name": "Python 3 (ipykernel)",
   "language": "python",
   "name": "python3"
  },
  "language_info": {
   "codemirror_mode": {
    "name": "ipython",
    "version": 3
   },
   "file_extension": ".py",
   "mimetype": "text/x-python",
   "name": "python",
   "nbconvert_exporter": "python",
   "pygments_lexer": "ipython3",
   "version": "3.10.13"
  }
 },
 "nbformat": 4,
 "nbformat_minor": 2
}
