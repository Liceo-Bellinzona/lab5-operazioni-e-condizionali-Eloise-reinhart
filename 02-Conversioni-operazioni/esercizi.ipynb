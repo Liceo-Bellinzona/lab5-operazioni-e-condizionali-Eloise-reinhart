{
 "cells": [
  {
   "cell_type": "markdown",
   "metadata": {},
   "source": [
    "# Paga lorda\n",
    "Scrivere un programma che calcoli e visualizzi la paga lorda di un dipendente a ore. I\n",
    "passaggi da seguire sono i seguenti:\n",
    "1. Ottenere il numero di ore lavorative;\n",
    "2. ottenere retribuzione oraria;\n",
    "3. moltiplicare il numero di ore lavorate per la retribuzione oraria;\n",
    "4. visualizzare il risultato del calcolo eseguito al passaggio 3."
   ]
  },
  {
   "cell_type": "code",
   "execution_count": 8,
   "metadata": {},
   "outputs": [
    {
     "name": "stdout",
     "output_type": "stream",
     "text": [
      "hai lavorato 10 ore per cui il tuo salario corrisponde a 120 franchi\n"
     ]
    }
   ],
   "source": [
    "ore : float= 10\n",
    "ret : float= 12\n",
    "salario : float= (ret*ore)\n",
    "print(f\"hai lavorato {ore} ore per cui il tuo salario corrisponde a {salario} franchi\")\n"
   ]
  },
  {
   "cell_type": "markdown",
   "metadata": {},
   "source": [
    "# Calcolo della superficie\n",
    "Un acro di terra corrisponde a circa 4046 metri quadrati. Scrivere un programma che chieda\n",
    "all’utente di inserire la superficie di un terreno in metri quadrati e calcoli quindi il numero\n",
    "di acri di quel terreno."
   ]
  },
  {
   "cell_type": "markdown",
   "metadata": {},
   "source": []
  },
  {
   "cell_type": "code",
   "execution_count": 20,
   "metadata": {},
   "outputs": [
    {
     "name": "stdout",
     "output_type": "stream",
     "text": [
      "il quantitativo di 9836 metri quadrati corrisponde 2.431043005437469\n"
     ]
    }
   ],
   "source": [
    "un_acro : float= 4046\n",
    "m_quad : float= 9836\n",
    "n_acri : float= (m_quad/un_acro)\n",
    "print(f\"il quantitativo di {m_quad} metri quadrati corrisponde {n_acri}\")"
   ]
  },
  {
   "cell_type": "markdown",
   "metadata": {},
   "source": [
    "# Previsioni delle vendite \n",
    "Un’azienda ha determinato che il suo profitto annuale è tipicamente il 23% del totale delle\n",
    "vendite. \n",
    "Scrivere un programma che chieda all’utente di inserire il totale delle vendite previste e visualizzi quindi il profitto che si terrà da questa somma.\n",
    "\n",
    "*Suggerimento: non esiste il tipo di dato 23%. È necessario utilizzare gli operatori di\n",
    "moltiplicazione e divisione per ottenere la percentuale sul totale delle vendite.*\n"
   ]
  },
  {
   "cell_type": "markdown",
   "metadata": {},
   "source": []
  },
  {
   "cell_type": "markdown",
   "metadata": {},
   "source": []
  },
  {
   "cell_type": "code",
   "execution_count": 25,
   "metadata": {},
   "outputs": [
    {
     "name": "stdout",
     "output_type": "stream",
     "text": [
      "Il totale delle vendite corrisponde a 2000 franchi, per cui il profitto é di 460.0 franchi\n"
     ]
    }
   ],
   "source": [
    "tot_vendite : float=2000\n",
    "profitto :float=(tot_vendite/100)*23\n",
    "print(f\"Il totale delle vendite corrisponde a {tot_vendite} franchi, per cui il profitto é di {profitto} franchi\")"
   ]
  },
  {
   "cell_type": "markdown",
   "metadata": {},
   "source": [
    "# IVA \n",
    "Scrivere un programma che chieda all’utente di inserire il costo totale di un acquisto al netto\n",
    "di Iva. \n",
    "\n",
    "Si supponga che l’IVA sia pari all’8%. \n",
    "\n",
    "Il programma deve visualizzare il costo totale\n",
    "dell’acquisto al netto di IVA, l’IVA e il costo totale dell’acquisto (quindi IVA compresa)."
   ]
  },
  {
   "cell_type": "code",
   "execution_count": 26,
   "metadata": {},
   "outputs": [
    {
     "name": "stdout",
     "output_type": "stream",
     "text": [
      "caro cliente il valore dell'IVA equivivale a 96.0 franchi,mentreil valore dell'acquisto totale netto dell'IVA corrisponde a 1200 franchi, per cui il valore del costo totale con IVA compresa é di 1296.0 franchi\n"
     ]
    }
   ],
   "source": [
    "costo_tot_acquisto : float= 1200\n",
    "IVA : float= (costo_tot_acquisto/100)*8\n",
    "IVA_comp : float=IVA+costo_tot_acquisto\n",
    "print(f\"caro cliente il valore dell'IVA equivivale a {IVA} franchi,mentreil valore dell'acquisto totale netto dell'IVA corrisponde a {costo_tot_acquisto} franchi, per cui il valore del costo totale con IVA compresa é di {IVA_comp} franchi\")"
   ]
  }
 ],
 "metadata": {
  "kernelspec": {
   "display_name": "work",
   "language": "python",
   "name": "python3"
  },
  "language_info": {
   "codemirror_mode": {
    "name": "ipython",
    "version": 3
   },
   "file_extension": ".py",
   "mimetype": "text/x-python",
   "name": "python",
   "nbconvert_exporter": "python",
   "pygments_lexer": "ipython3",
   "version": "3.10.13"
  }
 },
 "nbformat": 4,
 "nbformat_minor": 2
}
